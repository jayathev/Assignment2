{
 "cells": [
  {
   "cell_type": "markdown",
   "metadata": {},
   "source": []
  },
  {
   "cell_type": "code",
   "execution_count": 1,
   "metadata": {},
   "outputs": [
    {
     "data": {
      "text/plain": [
       "<function matplotlib.pyplot.plot(*args, scalex=True, scaley=True, data=None, **kwargs)>"
      ]
     },
     "execution_count": 1,
     "metadata": {},
     "output_type": "execute_result"
    },
    {
     "data": {
      "image/png": "[encoded data removed]",
      "text/plain": [
       "<Figure size 648x720 with 1 Axes>"
      ]
     },
     "metadata": {
      "needs_background": "light"
     },
     "output_type": "display_data"
    }
   ],
   "source": [
    "import numpy as np\n",
    "from scipy . optimize import minimize\n",
    "from scipy import linalg\n",
    "import matplotlib.pyplot as plt\n",
    "\n",
    "M= 100\n",
    "half_m = M//2\n",
    "R = 10\n",
    "S = R/16\n",
    "T = np.random.uniform(0, 2*np.pi, half_m)\n",
    "n= S*np.random.randn(half_m)\n",
    "x, y = (R + n)*np.cos(T), (R + n)*np.sin(T)\n",
    "X_circ = np.hstack((x.reshape( half_m, 1), y.reshape(half_m, 1)))\n",
    "\n",
    "m, q = -1, 2\n",
    "x = np.linspace (-12, 12 , half_m)\n",
    "y = m*x + q + S*np.random.randn(half_m)\n",
    "X_line = np.hstack((x.reshape(half_m, 1 ), y.reshape(half_m, 1 )))\n",
    "\n",
    "X = np.vstack((X_circ, X_line))\n",
    "\n",
    "p = X[:,0] \n",
    "q = X[:,1] \n",
    "\n",
    "\n",
    "plt.figure(figsize=(9, 10))\n",
    "plt.plot(p, q, 'o')\n",
    "plt.plot"
   ]
  },
  {
   "cell_type": "code",
   "execution_count": 2,
   "metadata": {},
   "outputs": [],
   "source": [
    "def findCircle(pnt_1, pnt_2, pnt_3):\n",
    "    x_1, y_1 = pnt_1[0], pnt_1[1]\n",
    "    x_2, y_2 = pnt_2[0], pnt_2[1]\n",
    "    x_3, y_3 = pnt_3[0], pnt_3[1]\n",
    "\n",
    "    a_1 = x_1 - x_2\n",
    "    a_2 = x_1 - x_3\n",
    "\n",
    "    b_1 = y_1 - y_2\n",
    "    b_2 = y_1 - y_3\n",
    "\n",
    "    c_1 = (x_2**2 - x_1**2 + y_2**2 - y_1**2)/2\n",
    "    c_2 = (x_3**2 - x_1**2 + y_3**2 - y_1**2)/2\n",
    "\n",
    "    A = np.array([[a_1, b_1], [a_2, b_2]], dtype=np.float32)\n",
    "    C = np.array([[c_1], [c_2]], dtype=np.float32)\n",
    "\n",
    "    G_F = np.linalg.pinv(A) @ C\n",
    "    G = -G_F[0][0]\n",
    "    F = -G_F[1][0]\n",
    "    C = -(x_1**2 + y_1**2  + 2*G*x_1 + 2*F*y_1)\n",
    "    R_POW_2 = G**2 + F**2 - C\n",
    "\n",
    "    if (R_POW_2 > 0):\n",
    "        r_1 = np.sqrt((x_1-G)**2 + (y_1-G)**2)\n",
    "        r_2 = np.sqrt((x_2-G)**2 + (y_2-F)**2)\n",
    "        r_3 = np.sqrt((x_3-G)**2 + (y_3-F)**2)\n",
    "        r = np.mean([r_1, r_2, r_3])\n",
    "        return (G, F, R)\n",
    "    else:\n",
    "        return None\n",
    "\n"
   ]
  },
  {
   "cell_type": "code",
   "execution_count": 3,
   "metadata": {},
   "outputs": [],
   "source": [
    "def RANSAC(Set, A, B, R, T):\n",
    "    in_TH = R - T \n",
    "    out_TH = R + T \n",
    "    INL_ARR=[]\n",
    "    INL_CT = 0\n",
    "    ERROR = 0\n",
    "\n",
    "    for p_t in Set:\n",
    "        x, y = p_t[0], p_t[1]     \n",
    "        r_cal = np.sqrt((x-A)**2 + (y-B)**2)   \n",
    "        if (in_TH < r_cal < out_TH) & (5 < R < 15):  \n",
    "            INL_CT += 1\n",
    "            ERROR += np.abs(r_cal - R)\n",
    "            INL_ARR.append(p_t)\n",
    "\n",
    "    return INL_CT,INL_ARR,ERROR"
   ]
  }
 ],
 "metadata": {
  "interpreter": {
   "hash": "598d641541164cce6e186540c13c68f50e834e50c3ea1ba0dff47dbe8f9d63e3"
  },
  "kernelspec": {
   "display_name": "Python 3.10.4 64-bit",
   "language": "python",
   "name": "python3"
  },
  "language_info": {
   "codemirror_mode": {
    "name": "ipython",
    "version": 3
   },
   "file_extension": ".py",
   "mimetype": "text/x-python",
   "name": "python",
   "nbconvert_exporter": "python",
   "pygments_lexer": "ipython3",
   "version": "3.10.4"
  },
  "orig_nbformat": 4
 },
 "nbformat": 4,
 "nbformat_minor": 2
}
